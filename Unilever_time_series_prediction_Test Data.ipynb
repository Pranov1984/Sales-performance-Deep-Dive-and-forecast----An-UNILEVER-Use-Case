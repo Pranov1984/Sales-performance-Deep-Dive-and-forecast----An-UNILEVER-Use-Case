{
 "cells": [
  {
   "cell_type": "markdown",
   "metadata": {
    "colab_type": "text",
    "id": "vXE926qT0jHg"
   },
   "source": [
    "# Time series prediction using LSTM"
   ]
  },
  {
   "cell_type": "markdown",
   "metadata": {
    "colab_type": "text",
    "id": "aXEOY69f8B9d"
   },
   "source": [
    "### Load the data\n",
    "- load daily-minimum-temperatures-in-me.csv"
   ]
  },
  {
   "cell_type": "code",
   "execution_count": 0,
   "metadata": {
    "colab": {
     "base_uri": "https://localhost:8080/",
     "height": 35
    },
    "colab_type": "code",
    "id": "1Yvcuhqz0m23",
    "outputId": "40ebced8-716a-47f5-94f9-b8df56e7ad84"
   },
   "outputs": [
    {
     "name": "stdout",
     "output_type": "stream",
     "text": [
      "Drive already mounted at /content/drive/; to attempt to forcibly remount, call drive.mount(\"/content/drive/\", force_remount=True).\n"
     ]
    }
   ],
   "source": [
    "from google.colab import drive\n",
    "drive.mount('/content/drive/')"
   ]
  },
  {
   "cell_type": "code",
   "execution_count": 0,
   "metadata": {
    "colab": {},
    "colab_type": "code",
    "id": "LA7R2II8-Jxh"
   },
   "outputs": [],
   "source": [
    "import pandas as pd\n",
    "df = pd.read_excel('/content/drive/My Drive/Colab Notebooks/Hackathons/Unilever Use Case/Test dataset v1.xlsx')"
   ]
  },
  {
   "cell_type": "markdown",
   "metadata": {
    "colab_type": "text",
    "id": "pWcMgg69-T6k"
   },
   "source": [
    "### Print the data\n",
    "- First 5 rows only"
   ]
  },
  {
   "cell_type": "code",
   "execution_count": 0,
   "metadata": {
    "colab": {
     "base_uri": "https://localhost:8080/",
     "height": 298
    },
    "colab_type": "code",
    "id": "SM828gT_-Ra2",
    "outputId": "063d0f00-fbe3-4ee6-d162-bbb3ae62e774"
   },
   "outputs": [
    {
     "data": {
      "text/html": [
       "<div>\n",
       "<style scoped>\n",
       "    .dataframe tbody tr th:only-of-type {\n",
       "        vertical-align: middle;\n",
       "    }\n",
       "\n",
       "    .dataframe tbody tr th {\n",
       "        vertical-align: top;\n",
       "    }\n",
       "\n",
       "    .dataframe thead th {\n",
       "        text-align: right;\n",
       "    }\n",
       "</style>\n",
       "<table border=\"1\" class=\"dataframe\">\n",
       "  <thead>\n",
       "    <tr style=\"text-align: right;\">\n",
       "      <th></th>\n",
       "      <th>Period</th>\n",
       "      <th>EQ</th>\n",
       "      <th>Social_Search_Impressions</th>\n",
       "      <th>Social_Search_Working_cost</th>\n",
       "      <th>Digital_Impressions</th>\n",
       "      <th>Digital_Working_cost</th>\n",
       "      <th>Print_Impressions.Ads40</th>\n",
       "      <th>Print_Working_Cost.Ads50</th>\n",
       "      <th>OOH_Impressions</th>\n",
       "      <th>OOH_Working_Cost</th>\n",
       "      <th>SOS_pct</th>\n",
       "      <th>Digital_Impressions_pct</th>\n",
       "      <th>CCFOT</th>\n",
       "      <th>Median_Temp</th>\n",
       "      <th>Median_Rainfall</th>\n",
       "      <th>Fuel_Price</th>\n",
       "      <th>Inflation</th>\n",
       "      <th>Trade_Invest</th>\n",
       "      <th>Brand_Equity</th>\n",
       "      <th>Avg_EQ_Price</th>\n",
       "      <th>Any_Promo_pct_ACV</th>\n",
       "      <th>Any_Feat_pct_ACV</th>\n",
       "      <th>Any_Disp_pct_ACV</th>\n",
       "      <th>EQ_Base_Price</th>\n",
       "      <th>Est_ACV_Selling</th>\n",
       "      <th>pct_ACV</th>\n",
       "      <th>Avg_no_of_Items</th>\n",
       "      <th>pct_PromoMarketDollars_Category</th>\n",
       "      <th>RPI_Category</th>\n",
       "      <th>Magazine_Impressions_pct</th>\n",
       "      <th>TV_GRP</th>\n",
       "      <th>Competitor1_RPI</th>\n",
       "      <th>Competitor2_RPI</th>\n",
       "      <th>Competitor3_RPI</th>\n",
       "      <th>Competitor4_RPI</th>\n",
       "      <th>EQ_Category</th>\n",
       "      <th>EQ_Subcategory</th>\n",
       "      <th>pct_PromoMarketDollars_Subcategory</th>\n",
       "      <th>RPI_Subcategory</th>\n",
       "    </tr>\n",
       "  </thead>\n",
       "  <tbody>\n",
       "    <tr>\n",
       "      <th>0</th>\n",
       "      <td>2016 - Period:1</td>\n",
       "      <td>504.784933</td>\n",
       "      <td>2019283.0</td>\n",
       "      <td>5493.0</td>\n",
       "      <td>37148.2</td>\n",
       "      <td>2045.282</td>\n",
       "      <td>0.000012</td>\n",
       "      <td>0.000012</td>\n",
       "      <td>1.203045e+09</td>\n",
       "      <td>2220633.0</td>\n",
       "      <td>7.446883</td>\n",
       "      <td>16.0</td>\n",
       "      <td>100.0</td>\n",
       "      <td>32.950</td>\n",
       "      <td>0.5150</td>\n",
       "      <td>8.226</td>\n",
       "      <td>0.013258</td>\n",
       "      <td>42744.256840</td>\n",
       "      <td>42.410000</td>\n",
       "      <td>49.091447</td>\n",
       "      <td>9.691794</td>\n",
       "      <td>2.87</td>\n",
       "      <td>1.688896</td>\n",
       "      <td>1.427532</td>\n",
       "      <td>8696587915</td>\n",
       "      <td>39.441025</td>\n",
       "      <td>2.611782</td>\n",
       "      <td>0.0339</td>\n",
       "      <td>35.817030</td>\n",
       "      <td>27.702433</td>\n",
       "      <td>21.300</td>\n",
       "      <td>97.173365</td>\n",
       "      <td>35.557371</td>\n",
       "      <td>44.502717</td>\n",
       "      <td>63.377268</td>\n",
       "      <td>1728388.673</td>\n",
       "      <td>331927.5394</td>\n",
       "      <td>0.162732</td>\n",
       "      <td>40.560563</td>\n",
       "    </tr>\n",
       "    <tr>\n",
       "      <th>1</th>\n",
       "      <td>2016 - Period:2</td>\n",
       "      <td>490.226477</td>\n",
       "      <td>4564738.0</td>\n",
       "      <td>12938.0</td>\n",
       "      <td>50886.8</td>\n",
       "      <td>2370.584</td>\n",
       "      <td>0.000014</td>\n",
       "      <td>0.000015</td>\n",
       "      <td>1.944356e+09</td>\n",
       "      <td>469895.0</td>\n",
       "      <td>11.677082</td>\n",
       "      <td>5.0</td>\n",
       "      <td>87.5</td>\n",
       "      <td>34.625</td>\n",
       "      <td>0.2700</td>\n",
       "      <td>7.473</td>\n",
       "      <td>0.009938</td>\n",
       "      <td>36290.439557</td>\n",
       "      <td>42.410000</td>\n",
       "      <td>49.057612</td>\n",
       "      <td>9.415938</td>\n",
       "      <td>2.87</td>\n",
       "      <td>1.687952</td>\n",
       "      <td>1.442716</td>\n",
       "      <td>8682307085</td>\n",
       "      <td>38.417224</td>\n",
       "      <td>2.522814</td>\n",
       "      <td>0.0391</td>\n",
       "      <td>36.389065</td>\n",
       "      <td>21.432628</td>\n",
       "      <td>12.334</td>\n",
       "      <td>97.850760</td>\n",
       "      <td>37.223072</td>\n",
       "      <td>45.720077</td>\n",
       "      <td>62.731742</td>\n",
       "      <td>1900859.879</td>\n",
       "      <td>334611.3806</td>\n",
       "      <td>0.231650</td>\n",
       "      <td>40.046301</td>\n",
       "    </tr>\n",
       "    <tr>\n",
       "      <th>2</th>\n",
       "      <td>2016 - Period:3</td>\n",
       "      <td>479.244686</td>\n",
       "      <td>1029384.0</td>\n",
       "      <td>6546.0</td>\n",
       "      <td>253333.2</td>\n",
       "      <td>3180.888</td>\n",
       "      <td>0.000016</td>\n",
       "      <td>0.000017</td>\n",
       "      <td>9.984054e+08</td>\n",
       "      <td>4465061.0</td>\n",
       "      <td>0.102858</td>\n",
       "      <td>46.0</td>\n",
       "      <td>96.0</td>\n",
       "      <td>46.700</td>\n",
       "      <td>0.3900</td>\n",
       "      <td>8.001</td>\n",
       "      <td>0.007832</td>\n",
       "      <td>34852.141656</td>\n",
       "      <td>42.410000</td>\n",
       "      <td>49.367514</td>\n",
       "      <td>5.176684</td>\n",
       "      <td>2.87</td>\n",
       "      <td>1.834440</td>\n",
       "      <td>1.423408</td>\n",
       "      <td>8706897549</td>\n",
       "      <td>36.499442</td>\n",
       "      <td>2.477322</td>\n",
       "      <td>0.0228</td>\n",
       "      <td>36.599984</td>\n",
       "      <td>29.726275</td>\n",
       "      <td>23.213</td>\n",
       "      <td>96.397739</td>\n",
       "      <td>40.800563</td>\n",
       "      <td>41.822953</td>\n",
       "      <td>62.090417</td>\n",
       "      <td>2036436.906</td>\n",
       "      <td>387148.3582</td>\n",
       "      <td>0.125394</td>\n",
       "      <td>40.411115</td>\n",
       "    </tr>\n",
       "    <tr>\n",
       "      <th>3</th>\n",
       "      <td>2016 - Period:4</td>\n",
       "      <td>489.057428</td>\n",
       "      <td>902938.0</td>\n",
       "      <td>3928.0</td>\n",
       "      <td>3426239.0</td>\n",
       "      <td>13595.398</td>\n",
       "      <td>0.000016</td>\n",
       "      <td>0.000019</td>\n",
       "      <td>3.039816e+09</td>\n",
       "      <td>1031855.0</td>\n",
       "      <td>0.249055</td>\n",
       "      <td>48.0</td>\n",
       "      <td>100.0</td>\n",
       "      <td>49.650</td>\n",
       "      <td>0.3500</td>\n",
       "      <td>8.767</td>\n",
       "      <td>0.010034</td>\n",
       "      <td>24869.558988</td>\n",
       "      <td>43.543571</td>\n",
       "      <td>50.657634</td>\n",
       "      <td>6.088273</td>\n",
       "      <td>2.87</td>\n",
       "      <td>2.444000</td>\n",
       "      <td>1.443401</td>\n",
       "      <td>8660288592</td>\n",
       "      <td>38.135159</td>\n",
       "      <td>2.520409</td>\n",
       "      <td>0.0147</td>\n",
       "      <td>38.201852</td>\n",
       "      <td>30.326275</td>\n",
       "      <td>14.456</td>\n",
       "      <td>98.936519</td>\n",
       "      <td>36.576140</td>\n",
       "      <td>41.578429</td>\n",
       "      <td>63.374358</td>\n",
       "      <td>2113635.013</td>\n",
       "      <td>482489.6740</td>\n",
       "      <td>0.056603</td>\n",
       "      <td>42.213246</td>\n",
       "    </tr>\n",
       "    <tr>\n",
       "      <th>4</th>\n",
       "      <td>2016 - Period:5</td>\n",
       "      <td>477.031994</td>\n",
       "      <td>1343454.0</td>\n",
       "      <td>28374.0</td>\n",
       "      <td>552197.8</td>\n",
       "      <td>3983.134</td>\n",
       "      <td>0.000016</td>\n",
       "      <td>0.000019</td>\n",
       "      <td>9.622004e+08</td>\n",
       "      <td>2842722.0</td>\n",
       "      <td>13.338804</td>\n",
       "      <td>19.0</td>\n",
       "      <td>100.0</td>\n",
       "      <td>58.100</td>\n",
       "      <td>0.5025</td>\n",
       "      <td>9.277</td>\n",
       "      <td>0.009546</td>\n",
       "      <td>61675.321620</td>\n",
       "      <td>43.790000</td>\n",
       "      <td>50.625777</td>\n",
       "      <td>7.827112</td>\n",
       "      <td>1.87</td>\n",
       "      <td>0.170731</td>\n",
       "      <td>1.473687</td>\n",
       "      <td>8644518558</td>\n",
       "      <td>38.629564</td>\n",
       "      <td>2.497285</td>\n",
       "      <td>0.0219</td>\n",
       "      <td>38.648805</td>\n",
       "      <td>31.702433</td>\n",
       "      <td>25.300</td>\n",
       "      <td>100.509969</td>\n",
       "      <td>36.032016</td>\n",
       "      <td>42.602412</td>\n",
       "      <td>63.291934</td>\n",
       "      <td>2402211.102</td>\n",
       "      <td>629826.6484</td>\n",
       "      <td>0.065059</td>\n",
       "      <td>43.345578</td>\n",
       "    </tr>\n",
       "  </tbody>\n",
       "</table>\n",
       "</div>"
      ],
      "text/plain": [
       "            Period  ...  RPI_Subcategory\n",
       "0  2016 - Period:1  ...        40.560563\n",
       "1  2016 - Period:2  ...        40.046301\n",
       "2  2016 - Period:3  ...        40.411115\n",
       "3  2016 - Period:4  ...        42.213246\n",
       "4  2016 - Period:5  ...        43.345578\n",
       "\n",
       "[5 rows x 39 columns]"
      ]
     },
     "execution_count": 4,
     "metadata": {
      "tags": []
     },
     "output_type": "execute_result"
    }
   ],
   "source": [
    "df.head()"
   ]
  },
  {
   "cell_type": "code",
   "execution_count": 0,
   "metadata": {
    "colab": {
     "base_uri": "https://localhost:8080/",
     "height": 194
    },
    "colab_type": "code",
    "id": "nFrbd_vd-eZP",
    "outputId": "29237c3b-813d-4b5d-b2fc-ead59ed714fd"
   },
   "outputs": [
    {
     "data": {
      "text/html": [
       "<div>\n",
       "<style scoped>\n",
       "    .dataframe tbody tr th:only-of-type {\n",
       "        vertical-align: middle;\n",
       "    }\n",
       "\n",
       "    .dataframe tbody tr th {\n",
       "        vertical-align: top;\n",
       "    }\n",
       "\n",
       "    .dataframe thead th {\n",
       "        text-align: right;\n",
       "    }\n",
       "</style>\n",
       "<table border=\"1\" class=\"dataframe\">\n",
       "  <thead>\n",
       "    <tr style=\"text-align: right;\">\n",
       "      <th></th>\n",
       "      <th>EQ</th>\n",
       "    </tr>\n",
       "  </thead>\n",
       "  <tbody>\n",
       "    <tr>\n",
       "      <th>0</th>\n",
       "      <td>504.784933</td>\n",
       "    </tr>\n",
       "    <tr>\n",
       "      <th>1</th>\n",
       "      <td>490.226477</td>\n",
       "    </tr>\n",
       "    <tr>\n",
       "      <th>2</th>\n",
       "      <td>479.244686</td>\n",
       "    </tr>\n",
       "    <tr>\n",
       "      <th>3</th>\n",
       "      <td>489.057428</td>\n",
       "    </tr>\n",
       "    <tr>\n",
       "      <th>4</th>\n",
       "      <td>477.031994</td>\n",
       "    </tr>\n",
       "  </tbody>\n",
       "</table>\n",
       "</div>"
      ],
      "text/plain": [
       "           EQ\n",
       "0  504.784933\n",
       "1  490.226477\n",
       "2  479.244686\n",
       "3  489.057428\n",
       "4  477.031994"
      ]
     },
     "execution_count": 74,
     "metadata": {
      "tags": []
     },
     "output_type": "execute_result"
    }
   ],
   "source": [
    "df = df[['EQ']]\n",
    "df.head()"
   ]
  },
  {
   "cell_type": "markdown",
   "metadata": {
    "colab_type": "text",
    "id": "Ua-AeW2YC3kY"
   },
   "source": [
    "### Drop all the rows with null values\n",
    "- use dropna() method"
   ]
  },
  {
   "cell_type": "code",
   "execution_count": 0,
   "metadata": {
    "colab": {},
    "colab_type": "code",
    "id": "9l9UeA6YC8RV"
   },
   "outputs": [],
   "source": [
    "df.dropna(inplace=True)"
   ]
  },
  {
   "cell_type": "markdown",
   "metadata": {
    "colab_type": "text",
    "id": "3esUPJAMDzCJ"
   },
   "source": [
    "### Describe your dataframe\n",
    "- use describe() method"
   ]
  },
  {
   "cell_type": "code",
   "execution_count": 0,
   "metadata": {
    "colab": {
     "base_uri": "https://localhost:8080/",
     "height": 282
    },
    "colab_type": "code",
    "id": "uhH8OwGVELyH",
    "outputId": "90979fb4-7b08-4cbf-c972-4cda457c79ba"
   },
   "outputs": [
    {
     "data": {
      "text/html": [
       "<div>\n",
       "<style scoped>\n",
       "    .dataframe tbody tr th:only-of-type {\n",
       "        vertical-align: middle;\n",
       "    }\n",
       "\n",
       "    .dataframe tbody tr th {\n",
       "        vertical-align: top;\n",
       "    }\n",
       "\n",
       "    .dataframe thead th {\n",
       "        text-align: right;\n",
       "    }\n",
       "</style>\n",
       "<table border=\"1\" class=\"dataframe\">\n",
       "  <thead>\n",
       "    <tr style=\"text-align: right;\">\n",
       "      <th></th>\n",
       "      <th>EQ</th>\n",
       "    </tr>\n",
       "  </thead>\n",
       "  <tbody>\n",
       "    <tr>\n",
       "      <th>count</th>\n",
       "      <td>39.000000</td>\n",
       "    </tr>\n",
       "    <tr>\n",
       "      <th>mean</th>\n",
       "      <td>317.607462</td>\n",
       "    </tr>\n",
       "    <tr>\n",
       "      <th>std</th>\n",
       "      <td>117.566092</td>\n",
       "    </tr>\n",
       "    <tr>\n",
       "      <th>min</th>\n",
       "      <td>130.937361</td>\n",
       "    </tr>\n",
       "    <tr>\n",
       "      <th>25%</th>\n",
       "      <td>238.472603</td>\n",
       "    </tr>\n",
       "    <tr>\n",
       "      <th>50%</th>\n",
       "      <td>286.705586</td>\n",
       "    </tr>\n",
       "    <tr>\n",
       "      <th>75%</th>\n",
       "      <td>388.932161</td>\n",
       "    </tr>\n",
       "    <tr>\n",
       "      <th>max</th>\n",
       "      <td>546.053084</td>\n",
       "    </tr>\n",
       "  </tbody>\n",
       "</table>\n",
       "</div>"
      ],
      "text/plain": [
       "               EQ\n",
       "count   39.000000\n",
       "mean   317.607462\n",
       "std    117.566092\n",
       "min    130.937361\n",
       "25%    238.472603\n",
       "50%    286.705586\n",
       "75%    388.932161\n",
       "max    546.053084"
      ]
     },
     "execution_count": 20,
     "metadata": {
      "tags": []
     },
     "output_type": "execute_result"
    }
   ],
   "source": [
    "df.describe()"
   ]
  },
  {
   "cell_type": "markdown",
   "metadata": {
    "colab_type": "text",
    "id": "bizrToFMB4ix"
   },
   "source": [
    "### Plot the dataframe\n",
    "- use plot() method"
   ]
  },
  {
   "cell_type": "code",
   "execution_count": 0,
   "metadata": {
    "colab": {
     "base_uri": "https://localhost:8080/",
     "height": 283
    },
    "colab_type": "code",
    "id": "rNiXK6YZB30N",
    "outputId": "9e16dec9-e441-481e-abc8-7903f971cb09"
   },
   "outputs": [
    {
     "data": {
      "text/plain": [
       "<matplotlib.axes._subplots.AxesSubplot at 0x7fbe9eb080f0>"
      ]
     },
     "execution_count": 21,
     "metadata": {
      "tags": []
     },
     "output_type": "execute_result"
    },
    {
     "data": {
      "image/png": "[encoded data removed]",
      "text/plain": [
       "<Figure size 432x288 with 1 Axes>"
      ]
     },
     "metadata": {
      "tags": []
     },
     "output_type": "display_data"
    }
   ],
   "source": [
    "df.plot()"
   ]
  },
  {
   "cell_type": "markdown",
   "metadata": {
    "colab_type": "text",
    "id": "OtI9ZGJqE1lh"
   },
   "source": [
    "### Get representation of the distribution of data using histogram\n",
    "- use hist() method"
   ]
  },
  {
   "cell_type": "code",
   "execution_count": 0,
   "metadata": {
    "colab": {
     "base_uri": "https://localhost:8080/",
     "height": 283
    },
    "colab_type": "code",
    "id": "qan611HdE9nR",
    "outputId": "36b1af53-312f-4162-8d9e-9d92b2ef91c7"
   },
   "outputs": [
    {
     "data": {
      "text/plain": [
       "<matplotlib.axes._subplots.AxesSubplot at 0x7fbea9a43b00>"
      ]
     },
     "execution_count": 9,
     "metadata": {
      "tags": []
     },
     "output_type": "execute_result"
    },
    {
     "data": {
      "image/png": "[encoded data removed]",
      "text/plain": [
       "<Figure size 432x288 with 1 Axes>"
      ]
     },
     "metadata": {
      "tags": []
     },
     "output_type": "display_data"
    }
   ],
   "source": [
    "df.hist()"
   ]
  },
  {
   "cell_type": "markdown",
   "metadata": {
    "colab_type": "text",
    "id": "D8VDVRisHAsH"
   },
   "source": [
    "### Check minimum and maximum temperature\n",
    "- use min() and max() methods"
   ]
  },
  {
   "cell_type": "code",
   "execution_count": 0,
   "metadata": {
    "colab": {
     "base_uri": "https://localhost:8080/",
     "height": 35
    },
    "colab_type": "code",
    "id": "xlwlVtRfG_qX",
    "outputId": "21c9c65d-7844-4088-c9bf-68e6f508d04e"
   },
   "outputs": [
    {
     "data": {
      "text/plain": [
       "130.9373608"
      ]
     },
     "execution_count": 10,
     "metadata": {
      "tags": []
     },
     "output_type": "execute_result"
    }
   ],
   "source": [
    "df.min()"
   ]
  },
  {
   "cell_type": "code",
   "execution_count": 0,
   "metadata": {
    "colab": {
     "base_uri": "https://localhost:8080/",
     "height": 35
    },
    "colab_type": "code",
    "id": "abO5iWWAFFCJ",
    "outputId": "90171939-8aed-42ca-e3c0-35a684bd451e"
   },
   "outputs": [
    {
     "data": {
      "text/plain": [
       "546.0530843"
      ]
     },
     "execution_count": 11,
     "metadata": {
      "tags": []
     },
     "output_type": "execute_result"
    }
   ],
   "source": [
    "df.max()"
   ]
  },
  {
   "cell_type": "markdown",
   "metadata": {
    "colab_type": "text",
    "id": "eEgBn5JkKwrZ"
   },
   "source": [
    "### Normalize the data\n",
    "- normalize temperature values using MinMaxScaler\n",
    "- feature_range: 0-1\n",
    "- fit MinMaxScaler on train data and transform it\n",
    "  - use fit_transform() method\n",
    "- transform test data using MinMaxScaler object\n",
    "  - use transform() method"
   ]
  },
  {
   "cell_type": "code",
   "execution_count": 0,
   "metadata": {
    "colab": {},
    "colab_type": "code",
    "id": "AyBYmHIbY9cV"
   },
   "outputs": [],
   "source": []
  },
  {
   "cell_type": "code",
   "execution_count": 0,
   "metadata": {
    "colab": {},
    "colab_type": "code",
    "id": "OqDcm7tbI19Z"
   },
   "outputs": [],
   "source": [
    "from sklearn.preprocessing import MinMaxScaler\n",
    "ms = MinMaxScaler(feature_range=(0, 1))\n",
    "train = ms.fit_transform(df)\n",
    "#test = ms.transform(test)"
   ]
  },
  {
   "cell_type": "markdown",
   "metadata": {
    "colab_type": "text",
    "id": "4HjbO8gRQ3M1"
   },
   "source": [
    "### Print scaled train and test data\n",
    "- print only first 5 values"
   ]
  },
  {
   "cell_type": "code",
   "execution_count": 0,
   "metadata": {
    "colab": {
     "base_uri": "https://localhost:8080/",
     "height": 106
    },
    "colab_type": "code",
    "id": "U_WDZwKxRBRx",
    "outputId": "e5fd27bf-7fc1-4393-f50a-c9a4a9e06a57"
   },
   "outputs": [
    {
     "data": {
      "text/plain": [
       "array([[0.90058639],\n",
       "       [0.86551556],\n",
       "       [0.83906078],\n",
       "       [0.86269935],\n",
       "       [0.83373048]])"
      ]
     },
     "execution_count": 23,
     "metadata": {
      "tags": []
     },
     "output_type": "execute_result"
    }
   ],
   "source": [
    "train[:5]"
   ]
  },
  {
   "cell_type": "code",
   "execution_count": 0,
   "metadata": {
    "colab": {
     "base_uri": "https://localhost:8080/",
     "height": 102
    },
    "colab_type": "code",
    "id": "vYlwALHrRGcX",
    "outputId": "b820e018-d325-4bbd-c4db-d9e97f9b1aca"
   },
   "outputs": [
    {
     "data": {
      "text/plain": [
       "array([[0.22813688],\n",
       "       [0.22053232],\n",
       "       [0.18631179],\n",
       "       [0.19011407],\n",
       "       [0.31939163]])"
      ]
     },
     "execution_count": 17,
     "metadata": {
      "tags": []
     },
     "output_type": "execute_result"
    }
   ],
   "source": [
    "test[:5]"
   ]
  },
  {
   "cell_type": "markdown",
   "metadata": {
    "colab_type": "text",
    "id": "kVqNUf00RSiv"
   },
   "source": [
    "### Create sequential data\n",
    "Map the temperature at a particular day 'd' to the temperature at day t\n",
    "'d+n', where n is any number you define.\n",
    "\n",
    "For example: to map temperatures of consecutive days, use d+1, i.e. lookback = 1\n",
    "- Below function takes data as input and returns sequential data.\n",
    "- X as features and y as labels"
   ]
  },
  {
   "cell_type": "code",
   "execution_count": 0,
   "metadata": {
    "colab": {},
    "colab_type": "code",
    "id": "AtxhXruAWws-"
   },
   "outputs": [],
   "source": [
    "import numpy as np\n",
    "def create_seq_data(data, lookback=1):\n",
    "  X, y = list(), list()\n",
    "  \n",
    "  for day in range((len(data)-lookback)):\n",
    "    X.append(data[day: day+lookback, 0])\n",
    "    y.append(data[day+lookback, 0])\n",
    "  return np.array(X), np.array(y)"
   ]
  },
  {
   "cell_type": "markdown",
   "metadata": {
    "colab_type": "text",
    "id": "VMBJpuDQJzcG"
   },
   "source": [
    "### Use the above function to create train and test sets\n",
    "- Get X_train and y_train\n",
    "- Get X_test and y_test\n",
    "- lookback = 1"
   ]
  },
  {
   "cell_type": "code",
   "execution_count": 0,
   "metadata": {
    "colab": {},
    "colab_type": "code",
    "id": "Uq6GGmJ0Zqem"
   },
   "outputs": [],
   "source": [
    "X_train, y_train = create_seq_data(train)\n",
    "#X_test, y_test = create_seq_data(test)"
   ]
  },
  {
   "cell_type": "markdown",
   "metadata": {
    "colab_type": "text",
    "id": "-E2iixEfK0Px"
   },
   "source": [
    "### Reshape the data\n",
    "- Reshape X_train and X_test\n",
    "- use np.reshape() method\n",
    "- this is to be done to make the data ready for input in model"
   ]
  },
  {
   "cell_type": "code",
   "execution_count": 0,
   "metadata": {
    "colab": {},
    "colab_type": "code",
    "id": "X3qhXEqoZxQ3"
   },
   "outputs": [],
   "source": [
    "X_train = np.reshape(X_train, (X_train.shape[0], X_train.shape[1], 1))"
   ]
  },
  {
   "cell_type": "markdown",
   "metadata": {
    "colab_type": "text",
    "id": "zKZ8SALZcuNB"
   },
   "source": [
    "### Print shape of data\n",
    "- print shape of X_train and X_test"
   ]
  },
  {
   "cell_type": "code",
   "execution_count": 0,
   "metadata": {
    "colab": {
     "base_uri": "https://localhost:8080/",
     "height": 35
    },
    "colab_type": "code",
    "id": "OSg_rbP6c_HI",
    "outputId": "bf626747-64e3-40e8-fa06-7db8f0cfa1c2"
   },
   "outputs": [
    {
     "name": "stdout",
     "output_type": "stream",
     "text": [
      "(38, 1, 1)\n"
     ]
    }
   ],
   "source": [
    "print(X_train.shape)"
   ]
  },
  {
   "cell_type": "markdown",
   "metadata": {
    "colab_type": "text",
    "id": "7fk2Ze24dsXw"
   },
   "source": [
    "### Define sequential model\n",
    "- initialize a Sequential model\n",
    "- add an LSTM layer\n",
    "  - units: 10\n",
    "  - stateful: True\n",
    "  - pass a `batch_input_shape` argument to your layer\n",
    "  - batch_input_shape: (batch_size, look_back, 1)\n",
    "    - batch_size: 1\n",
    "    - look_back: 1\n",
    "- add Dense layer with 1 neuron"
   ]
  },
  {
   "cell_type": "code",
   "execution_count": 0,
   "metadata": {
    "colab": {},
    "colab_type": "code",
    "id": "eXU6UNt4dhJz"
   },
   "outputs": [],
   "source": [
    "from tensorflow.python.keras.layers import Dense, Flatten, Dropout, LSTM\n",
    "from tensorflow.python.keras import Sequential\n",
    "\n",
    "model = Sequential()\n",
    "model.add(LSTM(13, stateful=True, batch_input_shape=(1, 1, 1)))\n",
    "\n",
    "\n",
    "model.add(Dense(1))"
   ]
  },
  {
   "cell_type": "markdown",
   "metadata": {
    "colab_type": "text",
    "id": "AZmlvbcMrCTh"
   },
   "source": [
    "### compile your model\n",
    "- loss: mean_squared_error\n",
    "- optimizer: adam"
   ]
  },
  {
   "cell_type": "code",
   "execution_count": 0,
   "metadata": {
    "colab": {},
    "colab_type": "code",
    "id": "TrcHrSdtg62Q"
   },
   "outputs": [],
   "source": [
    "model.compile(loss='mean_squared_error', optimizer='adam')\n",
    "model.compile(loss='mean_squared_error', optimizer='adam')"
   ]
  },
  {
   "cell_type": "markdown",
   "metadata": {
    "colab_type": "text",
    "id": "WWAoHdFurJN5"
   },
   "source": [
    "### summarize your model\n",
    "- use summary() method"
   ]
  },
  {
   "cell_type": "code",
   "execution_count": 0,
   "metadata": {
    "colab": {
     "base_uri": "https://localhost:8080/",
     "height": 230
    },
    "colab_type": "code",
    "id": "UlIaCMtBrPU2",
    "outputId": "eddb691f-911e-43a3-8c19-51fe280a361e"
   },
   "outputs": [
    {
     "name": "stdout",
     "output_type": "stream",
     "text": [
      "Model: \"sequential_21\"\n",
      "_________________________________________________________________\n",
      "Layer (type)                 Output Shape              Param #   \n",
      "=================================================================\n",
      "lstm_27 (LSTM)               (1, 13)                   780       \n",
      "_________________________________________________________________\n",
      "dense_9 (Dense)              (1, 1)                    14        \n",
      "=================================================================\n",
      "Total params: 794\n",
      "Trainable params: 794\n",
      "Non-trainable params: 0\n",
      "_________________________________________________________________\n"
     ]
    }
   ],
   "source": [
    "model.summary()"
   ]
  },
  {
   "cell_type": "markdown",
   "metadata": {
    "colab_type": "text",
    "id": "0Ca3CFhOrf83"
   },
   "source": [
    "### fit your model\n",
    "- epochs: 50\n",
    "- batch_size: 1"
   ]
  },
  {
   "cell_type": "code",
   "execution_count": 0,
   "metadata": {
    "colab": {
     "base_uri": "https://localhost:8080/",
     "height": 1000
    },
    "colab_type": "code",
    "id": "BbuB-XGPhH6h",
    "outputId": "f2f8f6c8-594c-46a9-c9bc-6c43dc26f7cb"
   },
   "outputs": [
    {
     "name": "stdout",
     "output_type": "stream",
     "text": [
      "Epoch 1/50\n",
      "38/38 [==============================] - 0s 4ms/step - loss: 0.1230\n",
      "Epoch 2/50\n",
      "38/38 [==============================] - 0s 4ms/step - loss: 0.0704\n",
      "Epoch 3/50\n",
      "38/38 [==============================] - 0s 4ms/step - loss: 0.0703\n",
      "Epoch 4/50\n",
      "38/38 [==============================] - 0s 4ms/step - loss: 0.0678\n",
      "Epoch 5/50\n",
      "38/38 [==============================] - 0s 5ms/step - loss: 0.0632\n",
      "Epoch 6/50\n",
      "38/38 [==============================] - 0s 5ms/step - loss: 0.0613\n",
      "Epoch 7/50\n",
      "38/38 [==============================] - 0s 5ms/step - loss: 0.0586\n",
      "Epoch 8/50\n",
      "38/38 [==============================] - 0s 4ms/step - loss: 0.0540\n",
      "Epoch 9/50\n",
      "38/38 [==============================] - 0s 4ms/step - loss: 0.0509\n",
      "Epoch 10/50\n",
      "38/38 [==============================] - 0s 4ms/step - loss: 0.0502\n",
      "Epoch 11/50\n",
      "38/38 [==============================] - 0s 4ms/step - loss: 0.0543\n",
      "Epoch 12/50\n",
      "38/38 [==============================] - 0s 4ms/step - loss: 0.0438\n",
      "Epoch 13/50\n",
      "38/38 [==============================] - 0s 4ms/step - loss: 0.0506\n",
      "Epoch 14/50\n",
      "38/38 [==============================] - 0s 4ms/step - loss: 0.0457\n",
      "Epoch 15/50\n",
      "38/38 [==============================] - 0s 4ms/step - loss: 0.0459\n",
      "Epoch 16/50\n",
      "38/38 [==============================] - 0s 4ms/step - loss: 0.0422\n",
      "Epoch 17/50\n",
      "38/38 [==============================] - 0s 4ms/step - loss: 0.0426\n",
      "Epoch 18/50\n",
      "38/38 [==============================] - 0s 4ms/step - loss: 0.0368\n",
      "Epoch 19/50\n",
      "38/38 [==============================] - 0s 4ms/step - loss: 0.0339\n",
      "Epoch 20/50\n",
      "38/38 [==============================] - 0s 5ms/step - loss: 0.0330\n",
      "Epoch 21/50\n",
      "38/38 [==============================] - 0s 5ms/step - loss: 0.0308\n",
      "Epoch 22/50\n",
      "38/38 [==============================] - 0s 4ms/step - loss: 0.0293\n",
      "Epoch 23/50\n",
      "38/38 [==============================] - 0s 4ms/step - loss: 0.0231\n",
      "Epoch 24/50\n",
      "38/38 [==============================] - 0s 4ms/step - loss: 0.0347\n",
      "Epoch 25/50\n",
      "38/38 [==============================] - 0s 4ms/step - loss: 0.0239\n",
      "Epoch 26/50\n",
      "38/38 [==============================] - 0s 4ms/step - loss: 0.0248\n",
      "Epoch 27/50\n",
      "38/38 [==============================] - 0s 4ms/step - loss: 0.0232\n",
      "Epoch 28/50\n",
      "38/38 [==============================] - 0s 4ms/step - loss: 0.0181\n",
      "Epoch 29/50\n",
      "38/38 [==============================] - 0s 4ms/step - loss: 0.0218\n",
      "Epoch 30/50\n",
      "38/38 [==============================] - 0s 4ms/step - loss: 0.0175\n",
      "Epoch 31/50\n",
      "38/38 [==============================] - 0s 4ms/step - loss: 0.0152\n",
      "Epoch 32/50\n",
      "38/38 [==============================] - 0s 4ms/step - loss: 0.0167\n",
      "Epoch 33/50\n",
      "38/38 [==============================] - 0s 4ms/step - loss: 0.0211\n",
      "Epoch 34/50\n",
      "38/38 [==============================] - 0s 4ms/step - loss: 0.0169\n",
      "Epoch 35/50\n",
      "38/38 [==============================] - 0s 4ms/step - loss: 0.0173\n",
      "Epoch 36/50\n",
      "38/38 [==============================] - 0s 4ms/step - loss: 0.0155\n",
      "Epoch 37/50\n",
      "38/38 [==============================] - 0s 4ms/step - loss: 0.0176\n",
      "Epoch 38/50\n",
      "38/38 [==============================] - 0s 4ms/step - loss: 0.0169\n",
      "Epoch 39/50\n",
      "38/38 [==============================] - 0s 4ms/step - loss: 0.0164\n",
      "Epoch 40/50\n",
      "38/38 [==============================] - 0s 4ms/step - loss: 0.0169\n",
      "Epoch 41/50\n",
      "38/38 [==============================] - 0s 4ms/step - loss: 0.0163\n",
      "Epoch 42/50\n",
      "38/38 [==============================] - 0s 4ms/step - loss: 0.0168\n",
      "Epoch 43/50\n",
      "38/38 [==============================] - 0s 4ms/step - loss: 0.0167\n",
      "Epoch 44/50\n",
      "38/38 [==============================] - 0s 4ms/step - loss: 0.0166\n",
      "Epoch 45/50\n",
      "38/38 [==============================] - 0s 4ms/step - loss: 0.0167\n",
      "Epoch 46/50\n",
      "38/38 [==============================] - 0s 4ms/step - loss: 0.0169\n",
      "Epoch 47/50\n",
      "38/38 [==============================] - 0s 4ms/step - loss: 0.0159\n",
      "Epoch 48/50\n",
      "38/38 [==============================] - 0s 4ms/step - loss: 0.0177\n",
      "Epoch 49/50\n",
      "38/38 [==============================] - 0s 4ms/step - loss: 0.0157\n",
      "Epoch 50/50\n",
      "38/38 [==============================] - 0s 4ms/step - loss: 0.0174\n"
     ]
    },
    {
     "data": {
      "text/plain": [
       "<tensorflow.python.keras.callbacks.History at 0x7fbdf97cf9e8>"
      ]
     },
     "execution_count": 103,
     "metadata": {
      "tags": []
     },
     "output_type": "execute_result"
    }
   ],
   "source": [
    "model.fit(X_train, y_train, epochs=50, batch_size=1)"
   ]
  },
  {
   "cell_type": "markdown",
   "metadata": {
    "colab_type": "text",
    "id": "12IhOtvUHJBF"
   },
   "source": [
    "### make predictions on train data\n",
    "- use predict() method\n",
    "  - batch_size: 1\n",
    "- store predictions in a variable"
   ]
  },
  {
   "cell_type": "code",
   "execution_count": 0,
   "metadata": {
    "colab": {},
    "colab_type": "code",
    "id": "iXWuJikQHURm"
   },
   "outputs": [],
   "source": [
    "train_pred = model.predict(X_train, batch_size=1)"
   ]
  },
  {
   "cell_type": "markdown",
   "metadata": {
    "colab_type": "text",
    "id": "RImBG7sCtnlb"
   },
   "source": [
    "### Inverse train predictions and true labels\n",
    "- use your MinMaxSclarer object\n",
    "- use inverse_transform() method"
   ]
  },
  {
   "cell_type": "code",
   "execution_count": 0,
   "metadata": {
    "colab": {},
    "colab_type": "code",
    "id": "xXfce41cqN-h"
   },
   "outputs": [],
   "source": [
    "train_pred = ms.inverse_transform(train_pred)\n",
    "y_train = ms.inverse_transform([y_train])"
   ]
  },
  {
   "cell_type": "markdown",
   "metadata": {
    "colab_type": "text",
    "id": "VtowvAItJv6c"
   },
   "source": [
    "### Evaluate train predictions\n",
    "- calculate RMSE\n",
    "- RMSE = sqrt(mean_squared_error(true_labels, predicted_labels))\n",
    "- use sqrt() and mean_squared_error() method\n",
    "- print training RMSE"
   ]
  },
  {
   "cell_type": "code",
   "execution_count": 0,
   "metadata": {
    "colab": {},
    "colab_type": "code",
    "id": "GjXbis_bJ9GL"
   },
   "outputs": [],
   "source": [
    "import math\n",
    "from sklearn.metrics import mean_squared_error\n",
    "train_score = math.sqrt(mean_squared_error(y_train[0], train_pred[:,0]))"
   ]
  },
  {
   "cell_type": "code",
   "execution_count": 0,
   "metadata": {
    "colab": {
     "base_uri": "https://localhost:8080/",
     "height": 35
    },
    "colab_type": "code",
    "id": "pLb65-QiqMDX",
    "outputId": "3fb656fe-0019-45af-fd47-41dec5e9fb45"
   },
   "outputs": [
    {
     "name": "stdout",
     "output_type": "stream",
     "text": [
      "Train Score: 53.03 RMSE\n"
     ]
    }
   ],
   "source": [
    "print('Train Score: %.2f RMSE' % (train_score))"
   ]
  },
  {
   "cell_type": "markdown",
   "metadata": {
    "colab_type": "text",
    "id": "DBOfSPRDvERE"
   },
   "source": [
    "### Evaluate test predictions\n",
    "- calculate RMSE\n",
    "- RMSE = sqrt(mean_squared_error(true_labels, predicted_labels))\n",
    "- use sqrt() and mean_squared_error() method\n",
    "- print testing RMSE"
   ]
  },
  {
   "cell_type": "code",
   "execution_count": 0,
   "metadata": {
    "colab": {},
    "colab_type": "code",
    "id": "8rQOereovERJ"
   },
   "outputs": [],
   "source": [
    "test_score = math.sqrt(mean_squared_error(y_test[0], test_pred[:,0]))"
   ]
  },
  {
   "cell_type": "code",
   "execution_count": 0,
   "metadata": {
    "colab": {},
    "colab_type": "code",
    "id": "MPQNZVOndisL"
   },
   "outputs": [],
   "source": [
    "def MAPE(y, yhat): \n",
    "    y, yhat = np.array(y), np.array(yhat)\n",
    "    try:\n",
    "        mape =  round(np.sum(np.abs(yhat - y)) / np.sum(y) * 100,2)\n",
    "    except:\n",
    "        print(\"Observed values are empty\")\n",
    "        mape = np.nan\n",
    "    return mape"
   ]
  },
  {
   "cell_type": "code",
   "execution_count": 0,
   "metadata": {
    "colab": {
     "base_uri": "https://localhost:8080/",
     "height": 404
    },
    "colab_type": "code",
    "id": "PAnzxOyoy5Bj",
    "outputId": "072af5ca-5c2f-43e7-df93-5b418ca6c947"
   },
   "outputs": [
    {
     "data": {
      "image/png": "[encoded data removed]",
      "text/plain": [
       "<Figure size 720x432 with 1 Axes>"
      ]
     },
     "metadata": {
      "tags": []
     },
     "output_type": "display_data"
    }
   ],
   "source": [
    "import matplotlib.pyplot as plt\n",
    "\n",
    "plt.figure(figsize=(10,6))\n",
    "plt.plot(df.EQ, color='blue', label='Actual Sales')\n",
    "plt.plot(train_pred[:,0] , color='red', label='Predicted Sales')\n",
    "plt.title('Sales Prediction')\n",
    "plt.xlabel('Date')\n",
    "plt.ylabel('Sales')\n",
    "plt.legend()\n",
    "plt.show()"
   ]
  },
  {
   "cell_type": "code",
   "execution_count": 0,
   "metadata": {
    "colab": {
     "base_uri": "https://localhost:8080/",
     "height": 35
    },
    "colab_type": "code",
    "id": "75eBAn7GdUzX",
    "outputId": "1504d56e-7b61-4e3a-996f-a3433e0211d6"
   },
   "outputs": [
    {
     "data": {
      "text/plain": [
       "13.51"
      ]
     },
     "execution_count": 111,
     "metadata": {
      "tags": []
     },
     "output_type": "execute_result"
    }
   ],
   "source": [
    "MAPE(y_train[0], train_pred[:,0])"
   ]
  },
  {
   "cell_type": "markdown",
   "metadata": {
    "colab": {},
    "colab_type": "code",
    "id": "1ZClKNvcdrn0"
   },
   "source": [
    "# Best Model created very close mapping of the forecated trend with the actual. The best model prepared so far\n"
   ]
  }
 ],
 "metadata": {
  "accelerator": "GPU",
  "colab": {
   "collapsed_sections": [],
   "name": "Unilever_time-series-prediction_lstm.ipynb",
   "provenance": []
  },
  "kernelspec": {
   "display_name": "Python 3",
   "language": "python",
   "name": "python3"
  },
  "language_info": {
   "codemirror_mode": {
    "name": "ipython",
    "version": 3
   },
   "file_extension": ".py",
   "mimetype": "text/x-python",
   "name": "python",
   "nbconvert_exporter": "python",
   "pygments_lexer": "ipython3",
   "version": "3.7.4"
  }
 },
 "nbformat": 4,
 "nbformat_minor": 1
}
